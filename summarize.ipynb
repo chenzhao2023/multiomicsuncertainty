{
 "cells": [
  {
   "cell_type": "code",
   "execution_count": 1,
   "metadata": {},
   "outputs": [
    {
     "name": "stderr",
     "output_type": "stream",
     "text": [
      "/tmp/ipykernel_23012/2590474423.py:2: DeprecationWarning: \n",
      "Pyarrow will become a required dependency of pandas in the next major release of pandas (pandas 3.0),\n",
      "(to allow more performant data types, such as the Arrow string type, and better interoperability with other libraries)\n",
      "but was not found to be installed on your system.\n",
      "If this would cause problems for you,\n",
      "please provide us feedback at https://github.com/pandas-dev/pandas/issues/54466\n",
      "        \n",
      "  import pandas as pd\n"
     ]
    }
   ],
   "source": [
    "import numpy as np\n",
    "import pandas as pd\n",
    "import os\n",
    "import matplotlib.pyplot as plt\n",
    "import seaborn as sns\n",
    "import os\n",
    "import warnings\n",
    "\n",
    "# Suppress FutureWarnings\n",
    "warnings.simplefilter(action='ignore', category=FutureWarning)\n",
    "\n",
    "from glob import glob\n",
    "from tqdm import tqdm"
   ]
  },
  {
   "cell_type": "code",
   "execution_count": 2,
   "metadata": {},
   "outputs": [],
   "source": [
    "def split_into_files(lines, num_files):\n",
    "    # Calculate the number of lines per file\n",
    "    lines_per_file = len(lines) // num_files\n",
    "    remainder = len(lines) % num_files\n",
    "    \n",
    "    # Split lines into chunks for each file\n",
    "    chunks = []\n",
    "    start = 0\n",
    "    for i in range(num_files):\n",
    "        # Allocate the remainder evenly\n",
    "        end = start + lines_per_file + (1 if i < remainder else 0)\n",
    "        chunks.append(lines[start:end])\n",
    "        start = end\n",
    "    \n",
    "    # Write each chunk to a separate file\n",
    "    for i, chunk in enumerate(chunks):\n",
    "        with open(f'sh{i+1}.sh', 'w') as f:\n",
    "            f.write('\\n'.join(chunk))"
   ]
  },
  {
   "cell_type": "code",
   "execution_count": 3,
   "metadata": {},
   "outputs": [],
   "source": [
    "num_epoch = 2500\n",
    "num_epoch_pretrain = 500\n",
    "num_trials = 10\n",
    "view_list = \"1,2,3\"\n",
    "lr_e_pretrain = 1e-3\n",
    "lr_e = 5e-4\n",
    "lr_c = 1e-3\n",
    "save_path = \"results\""
   ]
  },
  {
   "cell_type": "code",
   "execution_count": 4,
   "metadata": {},
   "outputs": [
    {
     "name": "stdout",
     "output_type": "stream",
     "text": [
      "python main_uncertainty.py --view_list=1 --data_folder=BRCA --num_trials=10 --save_path=results --num_epoch=2500  --num_epoch_pretrain=500 --lr_e=0.0005 --lr_c=0.001\n",
      "python main_uncertainty.py --view_list=1 --data_folder=ROSMAP --num_trials=10 --save_path=results --num_epoch=2500  --num_epoch_pretrain=500 --lr_e=0.0005 --lr_c=0.001\n",
      "python main_uncertainty.py --view_list=1 --data_folder=KIPAN --num_trials=10 --save_path=results --num_epoch=2500  --num_epoch_pretrain=500 --lr_e=0.0005 --lr_c=0.001\n",
      "python main_uncertainty.py --view_list=1 --data_folder=LGG --num_trials=10 --save_path=results --num_epoch=2500  --num_epoch_pretrain=500 --lr_e=0.0005 --lr_c=0.001\n",
      "python main_uncertainty.py --view_list=2 --data_folder=BRCA --num_trials=10 --save_path=results --num_epoch=2500  --num_epoch_pretrain=500 --lr_e=0.0005 --lr_c=0.001\n",
      "python main_uncertainty.py --view_list=2 --data_folder=ROSMAP --num_trials=10 --save_path=results --num_epoch=2500  --num_epoch_pretrain=500 --lr_e=0.0005 --lr_c=0.001\n",
      "python main_uncertainty.py --view_list=2 --data_folder=KIPAN --num_trials=10 --save_path=results --num_epoch=2500  --num_epoch_pretrain=500 --lr_e=0.0005 --lr_c=0.001\n",
      "python main_uncertainty.py --view_list=2 --data_folder=LGG --num_trials=10 --save_path=results --num_epoch=2500  --num_epoch_pretrain=500 --lr_e=0.0005 --lr_c=0.001\n",
      "python main_uncertainty.py --view_list=3 --data_folder=BRCA --num_trials=10 --save_path=results --num_epoch=2500  --num_epoch_pretrain=500 --lr_e=0.0005 --lr_c=0.001\n",
      "python main_uncertainty.py --view_list=3 --data_folder=ROSMAP --num_trials=10 --save_path=results --num_epoch=2500  --num_epoch_pretrain=500 --lr_e=0.0005 --lr_c=0.001\n",
      "python main_uncertainty.py --view_list=3 --data_folder=KIPAN --num_trials=10 --save_path=results --num_epoch=2500  --num_epoch_pretrain=500 --lr_e=0.0005 --lr_c=0.001\n",
      "python main_uncertainty.py --view_list=3 --data_folder=LGG --num_trials=10 --save_path=results --num_epoch=2500  --num_epoch_pretrain=500 --lr_e=0.0005 --lr_c=0.001\n",
      "python main_uncertainty.py --view_list=1,2 --data_folder=BRCA --num_trials=10 --save_path=results --num_epoch=2500  --num_epoch_pretrain=500 --lr_e=0.0005 --lr_c=0.001\n",
      "python main_uncertainty.py --view_list=1,2 --data_folder=ROSMAP --num_trials=10 --save_path=results --num_epoch=2500  --num_epoch_pretrain=500 --lr_e=0.0005 --lr_c=0.001\n",
      "python main_uncertainty.py --view_list=1,2 --data_folder=KIPAN --num_trials=10 --save_path=results --num_epoch=2500  --num_epoch_pretrain=500 --lr_e=0.0005 --lr_c=0.001\n",
      "python main_uncertainty.py --view_list=1,2 --data_folder=LGG --num_trials=10 --save_path=results --num_epoch=2500  --num_epoch_pretrain=500 --lr_e=0.0005 --lr_c=0.001\n",
      "python main_uncertainty.py --view_list=1,3 --data_folder=BRCA --num_trials=10 --save_path=results --num_epoch=2500  --num_epoch_pretrain=500 --lr_e=0.0005 --lr_c=0.001\n",
      "python main_uncertainty.py --view_list=1,3 --data_folder=ROSMAP --num_trials=10 --save_path=results --num_epoch=2500  --num_epoch_pretrain=500 --lr_e=0.0005 --lr_c=0.001\n",
      "python main_uncertainty.py --view_list=1,3 --data_folder=KIPAN --num_trials=10 --save_path=results --num_epoch=2500  --num_epoch_pretrain=500 --lr_e=0.0005 --lr_c=0.001\n",
      "python main_uncertainty.py --view_list=1,3 --data_folder=LGG --num_trials=10 --save_path=results --num_epoch=2500  --num_epoch_pretrain=500 --lr_e=0.0005 --lr_c=0.001\n",
      "python main_uncertainty.py --view_list=2,3 --data_folder=BRCA --num_trials=10 --save_path=results --num_epoch=2500  --num_epoch_pretrain=500 --lr_e=0.0005 --lr_c=0.001\n",
      "python main_uncertainty.py --view_list=2,3 --data_folder=ROSMAP --num_trials=10 --save_path=results --num_epoch=2500  --num_epoch_pretrain=500 --lr_e=0.0005 --lr_c=0.001\n",
      "python main_uncertainty.py --view_list=2,3 --data_folder=KIPAN --num_trials=10 --save_path=results --num_epoch=2500  --num_epoch_pretrain=500 --lr_e=0.0005 --lr_c=0.001\n",
      "python main_uncertainty.py --view_list=2,3 --data_folder=LGG --num_trials=10 --save_path=results --num_epoch=2500  --num_epoch_pretrain=500 --lr_e=0.0005 --lr_c=0.001\n",
      "python main_uncertainty.py --view_list=1,2,3 --data_folder=BRCA --num_trials=10 --save_path=results --num_epoch=2500  --num_epoch_pretrain=500 --lr_e=0.0005 --lr_c=0.001\n",
      "python main_uncertainty.py --view_list=1,2,3 --data_folder=ROSMAP --num_trials=10 --save_path=results --num_epoch=2500  --num_epoch_pretrain=500 --lr_e=0.0005 --lr_c=0.001\n",
      "python main_uncertainty.py --view_list=1,2,3 --data_folder=KIPAN --num_trials=10 --save_path=results --num_epoch=2500  --num_epoch_pretrain=500 --lr_e=0.0005 --lr_c=0.001\n",
      "python main_uncertainty.py --view_list=1,2,3 --data_folder=LGG --num_trials=10 --save_path=results --num_epoch=2500  --num_epoch_pretrain=500 --lr_e=0.0005 --lr_c=0.001\n",
      "28\n"
     ]
    }
   ],
   "source": [
    "commands = []\n",
    "count = 0\n",
    "for view_list in [\"1\", \"2\", \"3\", \"1,2\", \"1,3\", \"2,3\", \"1,2,3\"]:\n",
    "    for data_folder in [\"BRCA\", \"ROSMAP\", \"KIPAN\", \"LGG\"]:\n",
    "        command = f\"python main_uncertainty.py --view_list={view_list} --data_folder={data_folder} --num_trials={num_trials}\" \\\n",
    "                  f\" --save_path={save_path} --num_epoch={num_epoch}  --num_epoch_pretrain={num_epoch_pretrain}\" \\\n",
    "                  f\" --lr_e={lr_e} --lr_c={lr_c}\"\n",
    "        print(command)\n",
    "        count += 1\n",
    "        commands.append(command)\n",
    "print(count)\n",
    "\n",
    "split_into_files(commands, 1)"
   ]
  },
  {
   "cell_type": "markdown",
   "metadata": {},
   "source": [
    "# Determine base modalities"
   ]
  },
  {
   "cell_type": "code",
   "execution_count": 5,
   "metadata": {},
   "outputs": [],
   "source": [
    "import pandas as pd\n",
    "from sklearn.metrics import accuracy_score, f1_score, roc_auc_score\n",
    "\n",
    "\n",
    "df_performance = pd.DataFrame(columns=['data_folder', 'view_list','acc','measure1','measure2','uncertainty'])\n",
    "for data_folder in [\"BRCA\", \"ROSMAP\", \"LGG\", \"KIPAN\"]:\n",
    "    for view_list in [\"1\", \"2\", \"3\", \"1,2\", \"1,3\", \"2,3\", \"1,2,3\"]:\n",
    "        df = pd.read_csv(f\"{save_path}/{data_folder}/{view_list}/n_trials{num_trials}.csv\")\n",
    "        pred = df['pred'].to_numpy()\n",
    "        label = df['label'].to_numpy()\n",
    "        uncertainty = np.mean(df['std'].to_numpy())\n",
    "        if data_folder in ['ROSMAP', 'LGG']:\n",
    "            acc = accuracy_score(label, pred)\n",
    "            measure1 = f1_score(label, pred)\n",
    "            measure2 = roc_auc_score(label, pred)\n",
    "        \n",
    "        if data_folder in ['BRCA', 'KIPAN']:\n",
    "            acc = accuracy_score(label, pred)\n",
    "            measure1 = f1_score(label, pred, average='weighted')\n",
    "            measure2 = f1_score(label, pred, average='macro')\n",
    "\n",
    "        df_performance.loc[df_performance.shape[0]] = pd.Series({\"data_folder\": data_folder, \"view_list\": view_list.replace(\",\",\"-\"), \n",
    "                                                                 \"acc\": acc, \"measure1\": measure1, \"measure2\": measure2, \"uncertainty\": uncertainty})\n",
    "df_performance.head(5)\n",
    "df_performance.to_csv(f\"{save_path}/performance.csv\", index=False)"
   ]
  },
  {
   "cell_type": "code",
   "execution_count": 6,
   "metadata": {},
   "outputs": [
    {
     "data": {
      "text/html": [
       "<div>\n",
       "<style scoped>\n",
       "    .dataframe tbody tr th:only-of-type {\n",
       "        vertical-align: middle;\n",
       "    }\n",
       "\n",
       "    .dataframe tbody tr th {\n",
       "        vertical-align: top;\n",
       "    }\n",
       "\n",
       "    .dataframe thead th {\n",
       "        text-align: right;\n",
       "    }\n",
       "</style>\n",
       "<table border=\"1\" class=\"dataframe\">\n",
       "  <thead>\n",
       "    <tr style=\"text-align: right;\">\n",
       "      <th></th>\n",
       "      <th>data_folder</th>\n",
       "      <th>view_list</th>\n",
       "      <th>acc</th>\n",
       "      <th>measure1</th>\n",
       "      <th>measure2</th>\n",
       "      <th>uncertainty</th>\n",
       "    </tr>\n",
       "  </thead>\n",
       "  <tbody>\n",
       "    <tr>\n",
       "      <th>22</th>\n",
       "      <td>KIPAN</td>\n",
       "      <td>2</td>\n",
       "      <td>0.979798</td>\n",
       "      <td>0.979777</td>\n",
       "      <td>0.984897</td>\n",
       "      <td>0.017143</td>\n",
       "    </tr>\n",
       "    <tr>\n",
       "      <th>24</th>\n",
       "      <td>KIPAN</td>\n",
       "      <td>1-2</td>\n",
       "      <td>0.984848</td>\n",
       "      <td>0.984841</td>\n",
       "      <td>0.988684</td>\n",
       "      <td>0.017673</td>\n",
       "    </tr>\n",
       "    <tr>\n",
       "      <th>27</th>\n",
       "      <td>KIPAN</td>\n",
       "      <td>1-2-3</td>\n",
       "      <td>0.994949</td>\n",
       "      <td>0.994952</td>\n",
       "      <td>0.996235</td>\n",
       "      <td>0.016684</td>\n",
       "    </tr>\n",
       "    <tr>\n",
       "      <th>14</th>\n",
       "      <td>LGG</td>\n",
       "      <td>1</td>\n",
       "      <td>0.836601</td>\n",
       "      <td>0.832215</td>\n",
       "      <td>0.838351</td>\n",
       "      <td>0.027615</td>\n",
       "    </tr>\n",
       "    <tr>\n",
       "      <th>17</th>\n",
       "      <td>LGG</td>\n",
       "      <td>1-2</td>\n",
       "      <td>0.843137</td>\n",
       "      <td>0.84</td>\n",
       "      <td>0.84468</td>\n",
       "      <td>0.087706</td>\n",
       "    </tr>\n",
       "    <tr>\n",
       "      <th>20</th>\n",
       "      <td>LGG</td>\n",
       "      <td>1-2-3</td>\n",
       "      <td>0.830065</td>\n",
       "      <td>0.831169</td>\n",
       "      <td>0.830739</td>\n",
       "      <td>0.176923</td>\n",
       "    </tr>\n",
       "    <tr>\n",
       "      <th>7</th>\n",
       "      <td>ROSMAP</td>\n",
       "      <td>1</td>\n",
       "      <td>0.801887</td>\n",
       "      <td>0.807339</td>\n",
       "      <td>0.801961</td>\n",
       "      <td>0.078116</td>\n",
       "    </tr>\n",
       "    <tr>\n",
       "      <th>10</th>\n",
       "      <td>ROSMAP</td>\n",
       "      <td>1-2</td>\n",
       "      <td>0.839623</td>\n",
       "      <td>0.834951</td>\n",
       "      <td>0.841889</td>\n",
       "      <td>0.09799</td>\n",
       "    </tr>\n",
       "    <tr>\n",
       "      <th>13</th>\n",
       "      <td>ROSMAP</td>\n",
       "      <td>1-2-3</td>\n",
       "      <td>0.858491</td>\n",
       "      <td>0.857143</td>\n",
       "      <td>0.860071</td>\n",
       "      <td>0.158837</td>\n",
       "    </tr>\n",
       "    <tr>\n",
       "      <th>0</th>\n",
       "      <td>BRCA</td>\n",
       "      <td>1</td>\n",
       "      <td>0.828897</td>\n",
       "      <td>0.806591</td>\n",
       "      <td>0.777402</td>\n",
       "      <td>0.054242</td>\n",
       "    </tr>\n",
       "    <tr>\n",
       "      <th>3</th>\n",
       "      <td>BRCA</td>\n",
       "      <td>1-2</td>\n",
       "      <td>0.847909</td>\n",
       "      <td>0.844238</td>\n",
       "      <td>0.782135</td>\n",
       "      <td>0.047078</td>\n",
       "    </tr>\n",
       "    <tr>\n",
       "      <th>6</th>\n",
       "      <td>BRCA</td>\n",
       "      <td>1-2-3</td>\n",
       "      <td>0.840304</td>\n",
       "      <td>0.833025</td>\n",
       "      <td>0.793465</td>\n",
       "      <td>0.045454</td>\n",
       "    </tr>\n",
       "  </tbody>\n",
       "</table>\n",
       "</div>"
      ],
      "text/plain": [
       "   data_folder view_list       acc  measure1  measure2 uncertainty\n",
       "22       KIPAN         2  0.979798  0.979777  0.984897    0.017143\n",
       "24       KIPAN       1-2  0.984848  0.984841  0.988684    0.017673\n",
       "27       KIPAN     1-2-3  0.994949  0.994952  0.996235    0.016684\n",
       "14         LGG         1  0.836601  0.832215  0.838351    0.027615\n",
       "17         LGG       1-2  0.843137      0.84   0.84468    0.087706\n",
       "20         LGG     1-2-3  0.830065  0.831169  0.830739    0.176923\n",
       "7       ROSMAP         1  0.801887  0.807339  0.801961    0.078116\n",
       "10      ROSMAP       1-2  0.839623  0.834951  0.841889     0.09799\n",
       "13      ROSMAP     1-2-3  0.858491  0.857143  0.860071    0.158837\n",
       "0         BRCA         1  0.828897  0.806591  0.777402    0.054242\n",
       "3         BRCA       1-2  0.847909  0.844238  0.782135    0.047078\n",
       "6         BRCA     1-2-3  0.840304  0.833025  0.793465    0.045454"
      ]
     },
     "execution_count": 6,
     "metadata": {},
     "output_type": "execute_result"
    }
   ],
   "source": [
    "# select the modality with highest accuracy\n",
    "\n",
    "result_df = pd.DataFrame(columns=[\"data_folder\", \"view_list\", \"acc\", \"measure1\", \"measure2\", \"uncertainty\"])\n",
    "for dataset in [\"BRCA\", \"ROSMAP\", \"LGG\", \"KIPAN\"]:\n",
    "    df_performance_sub = df_performance[df_performance['data_folder']==dataset]\n",
    "    single_modality_df = df_performance_sub[df_performance_sub['view_list'].apply(lambda x: '-' not in x)]\n",
    "    best_single_modality = single_modality_df.loc[single_modality_df['acc'].idxmax()]\n",
    "\n",
    "    # Step 2: Select the best two-modality view containing the best single modality\n",
    "    best_single_view = best_single_modality['view_list']\n",
    "    two_modality_df = df_performance_sub[df_performance_sub['view_list'].apply(lambda x: '-' in x and len(x.split('-')) == 2 and best_single_view in x)]\n",
    "    best_two_modality = two_modality_df.loc[two_modality_df['acc'].idxmax()]\n",
    "\n",
    "    # Step 3: Keep the row with the view list of 1-2-3 if it exists\n",
    "    three_modality_df = df_performance_sub[df_performance_sub['view_list'] == '1-2-3']\n",
    "\n",
    "    # Combine all selected rows into a new dataframe\n",
    "    result_df_sub = pd.concat([best_single_modality.to_frame().T, best_two_modality.to_frame().T, three_modality_df])\n",
    "    result_df = pd.concat([result_df_sub, result_df])\n",
    "\n",
    "result_df.to_csv(f\"{save_path}/result_df.csv\", index=False)\n",
    "result_df"
   ]
  },
  {
   "cell_type": "markdown",
   "metadata": {},
   "source": [
    "# Visualize Uncertainty"
   ]
  },
  {
   "cell_type": "code",
   "execution_count": 7,
   "metadata": {},
   "outputs": [
    {
     "data": {
      "image/png": "[encoded data removed]",
      "text/plain": [
       "<Figure size 640x480 with 1 Axes>"
      ]
     },
     "metadata": {},
     "output_type": "display_data"
    }
   ],
   "source": [
    "data_folder = \"ROSMAP\"\n",
    "view_list = \"1,2,3\"\n",
    "df = pd.read_csv(f\"{save_path}/{data_folder}/{view_list}/n_trials{num_trials}.csv\")\n",
    "#df\n",
    "fig, ax = plt.subplots()\n",
    "sns.set_style(\"whitegrid\")\n",
    "sns.histplot(df, x=\"std\", hue=\"label\", ax=ax, palette=\"tab10\", element=\"step\")\n",
    "ax.set_title(\"Uncertainty histogram for Stage 1\")\n",
    "ax.set_xlim(0,0.25)\n",
    "plt.show()"
   ]
  },
  {
   "cell_type": "markdown",
   "metadata": {},
   "source": [
    "# Set thresh"
   ]
  },
  {
   "cell_type": "code",
   "execution_count": 19,
   "metadata": {},
   "outputs": [
    {
     "name": "stderr",
     "output_type": "stream",
     "text": [
      "100%|██████████| 100/100 [00:18<00:00,  5.33it/s]\n"
     ]
    },
    {
     "name": "stdout",
     "output_type": "stream",
     "text": [
      "data_folder = ROSMAP, best_accuracy = 0.8773584905660378, measure1 = 0.8073394495412844, measure2 = 0.8019607843137255, best_threshold_t1 = 0.052730848484848485, best_threshold_t2 = 0.10244130702020204\n"
     ]
    },
    {
     "name": "stderr",
     "output_type": "stream",
     "text": [
      "100%|██████████| 100/100 [00:21<00:00,  4.62it/s]\n"
     ]
    },
    {
     "name": "stdout",
     "output_type": "stream",
     "text": [
      "data_folder = BRCA, best_accuracy = 0.8783269961977186, measure1 = 0.8065905822562395, measure2 = 0.7774021918595325, best_threshold_t1 = 0.015847373737373736, best_threshold_t2 = 0.09898550187878788\n"
     ]
    },
    {
     "name": "stderr",
     "output_type": "stream",
     "text": [
      "100%|██████████| 100/100 [00:16<00:00,  6.04it/s]\n"
     ]
    },
    {
     "name": "stdout",
     "output_type": "stream",
     "text": [
      "data_folder = LGG, best_accuracy = 0.8627450980392157, measure1 = 0.8322147651006712, measure2 = 0.8383510092370852, best_threshold_t1 = 0.0, best_threshold_t2 = 0.050267941555555556\n"
     ]
    },
    {
     "name": "stderr",
     "output_type": "stream",
     "text": [
      "100%|██████████| 100/100 [00:19<00:00,  5.09it/s]"
     ]
    },
    {
     "name": "stdout",
     "output_type": "stream",
     "text": [
      "data_folder = KIPAN, best_accuracy = 1.0, measure1 = 0.9797774100943248, measure2 = 0.9848966950914259, best_threshold_t1 = 0.0, best_threshold_t2 = 0.10031043024444443\n"
     ]
    },
    {
     "name": "stderr",
     "output_type": "stream",
     "text": [
      "\n"
     ]
    }
   ],
   "source": [
    "df_staged = pd.DataFrame(columns=[\"data_folder\", \"acc\", \"measure1\", \"measure2\", \"t1\", \"t2\"])\n",
    "\n",
    "for data_folder in [\"ROSMAP\", \"BRCA\", \"LGG\", \"KIPAN\"]:\n",
    "    view_lists = result_df[result_df['data_folder']==data_folder]['view_list'].to_list()\n",
    "    converted_view_list = [view.replace('-', ',') for view in view_lists]\n",
    "\n",
    "    df_uni = pd.read_csv(f\"{save_path}/{data_folder}/{converted_view_list[0]}/n_trials{num_trials}.csv\").copy()\n",
    "    df_bi = pd.read_csv(f\"{save_path}/{data_folder}/{converted_view_list[1]}/n_trials{num_trials}.csv\").copy()\n",
    "    df_tri = pd.read_csv(f\"{save_path}/{data_folder}/{converted_view_list[2]}/n_trials{num_trials}.csv\").copy()\n",
    "    threshold_range_uni = np.linspace(df_uni['std'].min(), df_uni['std'].max(), 100)\n",
    "    threshold_range_bi = np.linspace(df_bi['std'].min(), df_bi['std'].max(), 100)\n",
    "\n",
    "    best_accuracy = 0.\n",
    "    best_threshold_t1 = 0\n",
    "    best_threshold_t2 = 0\n",
    "\n",
    "    for t1 in tqdm(threshold_range_uni):\n",
    "        for t2 in threshold_range_bi:\n",
    "            df_classified_confident_stage = pd.DataFrame(columns=[\"patient_id\", \"stage\", \"std\", \"pred\", \"label\"])\n",
    "            move_forward = True\n",
    "\n",
    "            # single view\n",
    "            df_uni['confident'] = df_uni['std'] <= t1\n",
    "            df_uni_confident = df_uni[df_uni['confident']]\n",
    "            df_uni_confident = df_uni_confident.copy()\n",
    "            df_uni_confident.loc[:, \"stage\"] = view_lists[0]\n",
    "\n",
    "            df_uni_confident = df_uni_confident[[\"patient_id\", \"stage\", \"std\", \"pred\", \"label\"]]\n",
    "            df_classified_confident_stage = pd.concat([df_classified_confident_stage, df_uni_confident], ignore_index=True)\n",
    "\n",
    "            if df_classified_confident_stage.shape[0] != df_uni.shape[0]:\n",
    "                # Unconfident predictions - use 2 views\n",
    "                df_uni_unconfident = df_uni[~df_uni['confident']]\n",
    "                df_bi_sub = df_bi[df_bi['patient_id'].isin(df_uni_unconfident['patient_id'])]\n",
    "                df_bi_sub = df_bi_sub.copy()\n",
    "                df_bi_sub.loc[:, 'confident'] = df_bi_sub['std'] <= t2\n",
    "                df_bi_confident = df_bi_sub[df_bi_sub['confident']]\n",
    "                \n",
    "                if df_bi_confident.shape[0] == 0:\n",
    "                    # t2 is too small, no subjects in bi-view model is confident\n",
    "                    continue\n",
    "                \n",
    "                df_bi_confident = df_bi_confident.copy()\n",
    "                df_bi_confident.loc[:, \"stage\"] = view_lists[1]\n",
    "                df_bi_confident = df_bi_confident[[\"patient_id\", \"stage\", \"std\", \"pred\", \"label\"]]\n",
    "                df_classified_confident_stage = pd.concat([df_classified_confident_stage, df_bi_confident], ignore_index=True)\n",
    "\n",
    "                if df_classified_confident_stage.shape[0] != df_uni.shape[0]:\n",
    "                    # Unconfident predictions - use 3 views\n",
    "                    df_bi_unconfident = df_bi_sub[~df_bi_sub['confident']]\n",
    "                    df_tri_sub = df_tri[df_tri['patient_id'].isin(df_bi_unconfident['patient_id'])]\n",
    "                    df_tri_sub = df_tri_sub.copy()\n",
    "                    df_tri_sub.loc[:, 'stage'] = view_lists[2]\n",
    "                    df_tri_sub = df_tri_sub[[\"patient_id\", \"stage\", \"std\", \"pred\", \"label\"]]\n",
    "                    df_classified_confident_stage = pd.concat([df_classified_confident_stage, df_tri_sub], ignore_index=True)\n",
    "\n",
    "            assert df_classified_confident_stage.shape[0] == df_uni.shape[0]\n",
    "            total_accuracy = accuracy_score(df_classified_confident_stage['label'].to_list(), df_classified_confident_stage['pred'].to_list())\n",
    "            \n",
    "            # Update best threshold if this one is better\n",
    "            if total_accuracy > best_accuracy:\n",
    "                best_accuracy = total_accuracy\n",
    "                best_threshold_t1 = t1\n",
    "                best_threshold_t2 = t2\n",
    "                df_classified_confident_stage.to_csv(f\"{save_path}/{data_folder}/staged_results.csv\", index=False)\n",
    "            # print(f\"acc = {total_accuracy}, t1 = {t1}, t2 = {t2}\")\n",
    "\n",
    "    if data_folder in [\"ROSMAP\", \"LGG\"]:\n",
    "        measure1 = f1_score(df_classified_confident_stage['label'].to_list(), df_classified_confident_stage['pred'].to_list())\n",
    "        measure2 = roc_auc_score(df_classified_confident_stage['label'].to_list(), df_classified_confident_stage['pred'].to_list())\n",
    "    elif data_folder in [\"KIPAN\", \"BRCA\"]:\n",
    "        measure1 = f1_score(df_classified_confident_stage['label'].to_list(), df_classified_confident_stage['pred'].to_list(), average='weighted')\n",
    "        measure2 = f1_score(df_classified_confident_stage['label'].to_list(), df_classified_confident_stage['pred'].to_list(), average='macro')\n",
    "    print(f\"data_folder = {data_folder}, best_accuracy = {best_accuracy}, measure1 = {measure1}, measure2 = {measure2}, best_threshold_t1 = {best_threshold_t1}, best_threshold_t2 = {best_threshold_t2}\")\n",
    "    df_staged.loc[df_staged.shape[0]] = pd.Series({\"data_folder\": data_folder, \"acc\": best_accuracy, \"measure1\": measure1, \"measure2\": measure2, \n",
    "                                                    \"t1\": best_threshold_t1, \"t2\": best_threshold_t2})\n",
    "df_staged.to_csv(f\"{save_path}/staged_performance.csv\", index=False)"
   ]
  },
  {
   "cell_type": "markdown",
   "metadata": {},
   "source": [
    "# Count percentage of each view"
   ]
  },
  {
   "cell_type": "code",
   "execution_count": 30,
   "metadata": {},
   "outputs": [
    {
     "data": {
      "text/html": [
       "<div>\n",
       "<style scoped>\n",
       "    .dataframe tbody tr th:only-of-type {\n",
       "        vertical-align: middle;\n",
       "    }\n",
       "\n",
       "    .dataframe tbody tr th {\n",
       "        vertical-align: top;\n",
       "    }\n",
       "\n",
       "    .dataframe thead th {\n",
       "        text-align: right;\n",
       "    }\n",
       "</style>\n",
       "<table border=\"1\" class=\"dataframe\">\n",
       "  <thead>\n",
       "    <tr style=\"text-align: right;\">\n",
       "      <th></th>\n",
       "      <th>data_folder</th>\n",
       "      <th>stage1</th>\n",
       "      <th>stage2</th>\n",
       "      <th>stage3</th>\n",
       "    </tr>\n",
       "  </thead>\n",
       "  <tbody>\n",
       "    <tr>\n",
       "      <th>0</th>\n",
       "      <td>ROSMAP</td>\n",
       "      <td>mRNA| 46.23%</td>\n",
       "      <td>mRNA|methy| 16.04%</td>\n",
       "      <td>mRNA|methy|miRNA| 37.74%</td>\n",
       "    </tr>\n",
       "    <tr>\n",
       "      <th>1</th>\n",
       "      <td>BRCA</td>\n",
       "      <td>mRNA| 53.61%</td>\n",
       "      <td>mRNA|methy| 33.84%</td>\n",
       "      <td>mRNA|methy|miRNA| 12.55%</td>\n",
       "    </tr>\n",
       "    <tr>\n",
       "      <th>2</th>\n",
       "      <td>LGG</td>\n",
       "      <td>mRNA| 14.38%</td>\n",
       "      <td>mRNA|methy| 7.19%</td>\n",
       "      <td>mRNA|methy|miRNA| 78.43%</td>\n",
       "    </tr>\n",
       "    <tr>\n",
       "      <th>3</th>\n",
       "      <td>KIPAN</td>\n",
       "      <td>methy| 2.02%</td>\n",
       "      <td>mRNA|methy| 91.41%</td>\n",
       "      <td>mRNA|methy|miRNA| 6.57%</td>\n",
       "    </tr>\n",
       "  </tbody>\n",
       "</table>\n",
       "</div>"
      ],
      "text/plain": [
       "  data_folder        stage1              stage2                    stage3\n",
       "0      ROSMAP  mRNA| 46.23%  mRNA|methy| 16.04%  mRNA|methy|miRNA| 37.74%\n",
       "1        BRCA  mRNA| 53.61%  mRNA|methy| 33.84%  mRNA|methy|miRNA| 12.55%\n",
       "2         LGG  mRNA| 14.38%   mRNA|methy| 7.19%  mRNA|methy|miRNA| 78.43%\n",
       "3       KIPAN  methy| 2.02%  mRNA|methy| 91.41%   mRNA|methy|miRNA| 6.57%"
      ]
     },
     "execution_count": 30,
     "metadata": {},
     "output_type": "execute_result"
    }
   ],
   "source": [
    "df_staged_percent = pd.DataFrame(columns=[\"data_folder\", \"stage1\", \"stage2\", \"stage3\"])\n",
    "for data_folder in [\"ROSMAP\", \"BRCA\", \"LGG\", \"KIPAN\"]:\n",
    "    df_classified_confident_stage = pd.read_csv(f\"{save_path}/{data_folder}/staged_results.csv\")\n",
    "    n_subjects = df_classified_confident_stage.shape[0]\n",
    "    stages = pd.unique(df_classified_confident_stage['stage'])\n",
    "    stage_strings = []\n",
    "    for stage in stages:\n",
    "        stage_string = \"\"\n",
    "        if stage.rfind(\"1\")!=-1:\n",
    "            stage_string += \"mRNA|\"\n",
    "        if stage.rfind(\"2\")!=-1:\n",
    "            stage_string += \"methy|\"\n",
    "        if stage.rfind(\"3\")!=-1:\n",
    "            stage_string += \"miRNA|\"\n",
    "        stage_string += f\"{df_classified_confident_stage[df_classified_confident_stage['stage']==stage].shape[0]/n_subjects *100 : 0.2f}%\"\n",
    "        stage_strings.append(stage_string)\n",
    "    df_staged_percent.loc[df_staged_percent.shape[0]] = pd.Series({\"data_folder\": data_folder, \"stage1\": stage_strings[0] , \"stage2\": stage_strings[1] , \"stage3\": stage_strings[2]})\n",
    "\n",
    "df_staged_percent\n"
   ]
  },
  {
   "cell_type": "markdown",
   "metadata": {},
   "source": [
    "# Visualize uncertainty distribution"
   ]
  },
  {
   "cell_type": "code",
   "execution_count": 51,
   "metadata": {},
   "outputs": [
    {
     "data": {
      "image/png": "[encoded data removed]",
      "text/plain": [
       "<Figure size 1500x500 with 3 Axes>"
      ]
     },
     "metadata": {},
     "output_type": "display_data"
    }
   ],
   "source": [
    "data_folder = \"ROSMAP\"\n",
    "view_lists = result_df[result_df['data_folder']==data_folder]['view_list'].to_list()\n",
    "converted_view_list = [view.replace('-', ',') for view in view_lists]\n",
    "\n",
    "df_classified_confident_stage = pd.read_csv(f\"{save_path}/{data_folder}/staged_results.csv\")\n",
    "\n",
    "fig, axes = plt.subplots(1, 3)\n",
    "fig.set_figwidth(15)\n",
    "fig.set_figheight(5)\n",
    "sns.set_style(\"whitegrid\")\n",
    "for i in range(3):\n",
    "    df_classified_confident_stage_sub = df_classified_confident_stage[df_classified_confident_stage['stage']==view_lists[i]]\n",
    "    sns.histplot(df_classified_confident_stage_sub, x=\"std\", hue=\"label\", ax=axes[i], palette=\"tab10\", element=\"step\")\n",
    "    axes[i].set_title(f\"Uncertainty histogram for Stage {i+1}\")\n",
    "    axes[i].set_xlim(0,0.35)\n",
    "    axes[i].set_xlabel(\"Uncertainty\")\n",
    "plt.show()"
   ]
  },
  {
   "cell_type": "code",
   "execution_count": 48,
   "metadata": {},
   "outputs": [
    {
     "data": {
      "text/plain": [
       "['1', '1-2', '1-2-3']"
      ]
     },
     "execution_count": 48,
     "metadata": {},
     "output_type": "execute_result"
    }
   ],
   "source": [
    "view_lists"
   ]
  }
 ],
 "metadata": {
  "kernelspec": {
   "display_name": "torch",
   "language": "python",
   "name": "python3"
  },
  "language_info": {
   "codemirror_mode": {
    "name": "ipython",
    "version": 3
   },
   "file_extension": ".py",
   "mimetype": "text/x-python",
   "name": "python",
   "nbconvert_exporter": "python",
   "pygments_lexer": "ipython3",
   "version": "3.10.13"
  }
 },
 "nbformat": 4,
 "nbformat_minor": 2
}
